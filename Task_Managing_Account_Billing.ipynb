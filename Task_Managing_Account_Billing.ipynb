{
  "cells": [
    {
      "cell_type": "markdown",
      "metadata": {
        "id": "sOgirbQaDgX3"
      },
      "source": [
        "<h1><b>Data Collection"
      ]
    },
    {
      "cell_type": "code",
      "execution_count": 1,
      "metadata": {
        "colab": {
          "base_uri": "https://localhost:8080/"
        },
        "id": "HRnOsiZ3DgX4",
        "outputId": "36187f8d-4d1e-46ef-fad5-c2ecbf769ce9"
      },
      "outputs": [
        {
          "name": "stdout",
          "output_type": "stream",
          "text": [
            "   Account ID  Customer Name Billing Date      Amount   Status   Description  \\\n",
            "0        1001   David Wilson   2023-01-01  193.987558  Pending  Consultation   \n",
            "1        1002  Alice Johnson   2023-01-02  370.656021  Pending      Purchase   \n",
            "2        1003  Sophia Garcia   2023-01-03  233.019486  Pending      Lab Test   \n",
            "3        1004   Olivia Davis   2023-01-04  296.120725     Paid     Follow-up   \n",
            "4        1005   David Wilson   2023-01-05  294.654764     Paid       Therapy   \n",
            "\n",
            "    Department  \n",
            "0   Pediatrics  \n",
            "1  Orthopedics  \n",
            "2     Pharmacy  \n",
            "3     Pharmacy  \n",
            "4          ENT  \n"
          ]
        }
      ],
      "source": [
        "import pandas as pd\n",
        "\n",
        "# Load the dataset\n",
        "df = pd.read_csv('dataset.csv')\n",
        "\n",
        "print(df.head())"
      ]
    },
    {
      "cell_type": "markdown",
      "metadata": {
        "id": "UkmteiIiDgX7"
      },
      "source": [
        "<b><h1>Ensure Data Cleanliness and Validation</b></h1>\n"
      ]
    },
    {
      "cell_type": "code",
      "execution_count": null,
      "metadata": {
        "id": "mKOdZxtqDgX8",
        "outputId": "8eba907a-e480-41e1-b308-8c71afd79217"
      },
      "outputs": [
        {
          "name": "stdout",
          "output_type": "stream",
          "text": [
            "<class 'pandas.core.frame.DataFrame'>\n",
            "RangeIndex: 110 entries, 0 to 109\n",
            "Data columns (total 7 columns):\n",
            " #   Column         Non-Null Count  Dtype  \n",
            "---  ------         --------------  -----  \n",
            " 0   Account ID     110 non-null    int64  \n",
            " 1   Customer Name  110 non-null    object \n",
            " 2   Billing Date   110 non-null    object \n",
            " 3   Amount         110 non-null    float64\n",
            " 4   Status         110 non-null    object \n",
            " 5   Description    110 non-null    object \n",
            " 6   Department     110 non-null    object \n",
            "dtypes: float64(1), int64(1), object(5)\n",
            "memory usage: 6.1+ KB\n",
            "None\n"
          ]
        }
      ],
      "source": [
        "print(df.info())"
      ]
    },
    {
      "cell_type": "code",
      "execution_count": null,
      "metadata": {
        "id": "hsKI4esHDgX8",
        "outputId": "3bd71233-8dbd-49c5-d311-ad5019e0893e"
      },
      "outputs": [
        {
          "name": "stdout",
          "output_type": "stream",
          "text": [
            "        Account ID       Amount\n",
            "count   110.000000   110.000000\n",
            "mean   1048.000000   479.309018\n",
            "std      28.809721   738.759966\n",
            "min    1001.000000    50.581003\n",
            "25%    1023.250000   145.411712\n",
            "50%    1045.500000   253.709053\n",
            "75%    1072.750000   392.219435\n",
            "max    1100.000000  3849.771331\n"
          ]
        }
      ],
      "source": [
        "print(df.describe())"
      ]
    },
    {
      "cell_type": "code",
      "execution_count": null,
      "metadata": {
        "id": "HF1hDOCNDgX9",
        "outputId": "aa32eb55-bfc4-42d1-8e56-9f743b0f107f"
      },
      "outputs": [
        {
          "name": "stdout",
          "output_type": "stream",
          "text": [
            "Missing Values:\n",
            " Account ID       0\n",
            "Customer Name    0\n",
            "Billing Date     0\n",
            "Amount           0\n",
            "Status           0\n",
            "Description      0\n",
            "Department       0\n",
            "dtype: int64\n",
            "-------------------------------------------------------------------------------------------------------------------------------\n",
            "Duplicate Entries: 0\n",
            "-------------------------------------------------------------------------------------------------------------------------------\n",
            "Non-standard Statuses:\n",
            "     Account ID  Customer Name Billing Date      Amount   Status   Description  \\\n",
            "11        1012  Liam Martinez   2023-01-12  236.157919  Unknown       Therapy   \n",
            "36        1037     Jane Smith   2023-02-06  240.093602  Unknown       Therapy   \n",
            "56        1057   David Wilson   2023-02-26  327.690984  Unknown      Purchase   \n",
            "71        1072   Olivia Davis   2023-03-13   73.973687  Unknown  Consultation   \n",
            "99        1100  Liam Martinez   2023-04-10  118.669234  Unknown     Emergency   \n",
            "\n",
            "     Department  \n",
            "11   Cardiology  \n",
            "36  Dermatology  \n",
            "56    Neurology  \n",
            "71     Oncology  \n",
            "99          ENT  \n",
            "-------------------------------------------------------------------------------------------------------------------------------\n"
          ]
        }
      ],
      "source": [
        "# Check for missing values\n",
        "missing_values = df.isnull().sum()\n",
        "print(\"Missing Values:\\n\", missing_values)\n",
        "print(\"-------------------------------------------------------------------------------------------------------------------------------\")\n",
        "# Check for duplicate entries\n",
        "duplicates = df.duplicated().sum()\n",
        "print(\"Duplicate Entries:\", duplicates)\n",
        "\n",
        "print(\"-------------------------------------------------------------------------------------------------------------------------------\")\n",
        "# Standardize date format\n",
        "df['Billing Date'] = pd.to_datetime(df['Billing Date'], errors='coerce')\n",
        "\n",
        "# Check for non-standard statuses\n",
        "standard_statuses = ['Paid', 'Pending', 'Unpaid']\n",
        "non_standard_statuses = df[~df['Status'].isin(standard_statuses)]\n",
        "print(\"Non-standard Statuses:\\n\", non_standard_statuses)\n",
        "\n",
        "print(\"-------------------------------------------------------------------------------------------------------------------------------\")\n"
      ]
    },
    {
      "cell_type": "code",
      "execution_count": null,
      "metadata": {
        "id": "xvXRMEw4DgX9",
        "outputId": "10a56776-f51a-4e85-b803-2f22abe7b8a7"
      },
      "outputs": [
        {
          "name": "stdout",
          "output_type": "stream",
          "text": [
            "<class 'pandas.core.frame.DataFrame'>\n",
            "RangeIndex: 110 entries, 0 to 109\n",
            "Data columns (total 7 columns):\n",
            " #   Column         Non-Null Count  Dtype         \n",
            "---  ------         --------------  -----         \n",
            " 0   Account ID     110 non-null    int64         \n",
            " 1   Customer Name  110 non-null    object        \n",
            " 2   Billing Date   110 non-null    datetime64[ns]\n",
            " 3   Amount         110 non-null    float64       \n",
            " 4   Status         110 non-null    object        \n",
            " 5   Description    110 non-null    object        \n",
            " 6   Department     110 non-null    object        \n",
            "dtypes: datetime64[ns](1), float64(1), int64(1), object(4)\n",
            "memory usage: 6.1+ KB\n",
            "None\n",
            "-------------------------------------------------------------------------------------------------------------------------------\n",
            "   Account ID  Customer Name Billing Date      Amount   Status   Description  \\\n",
            "0        1001   David Wilson   2023-01-01  193.987558  Pending  Consultation   \n",
            "1        1002  Alice Johnson   2023-01-02  370.656021  Pending      Purchase   \n",
            "2        1003  Sophia Garcia   2023-01-03  233.019486  Pending      Lab Test   \n",
            "3        1004   Olivia Davis   2023-01-04  296.120725     Paid     Follow-up   \n",
            "4        1005   David Wilson   2023-01-05  294.654764     Paid       Therapy   \n",
            "\n",
            "    Department  \n",
            "0   Pediatrics  \n",
            "1  Orthopedics  \n",
            "2     Pharmacy  \n",
            "3     Pharmacy  \n",
            "4          ENT  \n"
          ]
        }
      ],
      "source": [
        "# Print cleaned data info\n",
        "print(df.info())\n",
        "print(\"-------------------------------------------------------------------------------------------------------------------------------\")\n",
        "print(df.head())"
      ]
    },
    {
      "cell_type": "code",
      "execution_count": null,
      "metadata": {
        "id": "0oN9F7LyDgX-"
      },
      "outputs": [],
      "source": [
        "def calculate_billing_cycle_times(df):\n",
        "    df['Billing Cycle Time'] = df['Billing Date'].diff().dt.days\n",
        "    return df\n",
        "\n",
        "def identify_discrepancies(df):\n",
        "    df['Discrepancy'] = df['Amount'].diff()\n",
        "    return df\n",
        "\n",
        "def calculate_average_payment(df):\n",
        "    return df['Amount'].mean()\n",
        "\n",
        "def find_late_payments(df):\n",
        "    late_payments = df[df['Status'] == 'Pending']\n",
        "    return late_payments"
      ]
    },
    {
      "cell_type": "markdown",
      "metadata": {
        "id": "pSZbHXryDgX-"
      },
      "source": [
        "<b><h1>Billing Analysis"
      ]
    },
    {
      "cell_type": "code",
      "execution_count": null,
      "metadata": {
        "id": "_JKop911DgX-",
        "outputId": "acf7de8b-4b39-4c22-ce91-5c0080671673"
      },
      "outputs": [
        {
          "name": "stdout",
          "output_type": "stream",
          "text": [
            "Billing Cycle Times:\n",
            " 0      NaN\n",
            "1      1.0\n",
            "2      1.0\n",
            "3      1.0\n",
            "4      1.0\n",
            "      ... \n",
            "105    6.0\n",
            "106    1.0\n",
            "107    1.0\n",
            "108    1.0\n",
            "109    1.0\n",
            "Name: Billing Cycle Time, Length: 110, dtype: float64\n",
            "-------------------------------------------------------------------------------------------------------------------------------\n",
            "Payment Discrepancies:\n",
            " 0              NaN\n",
            "1       176.668462\n",
            "2      -137.636534\n",
            "3        63.101239\n",
            "4        -1.465961\n",
            "          ...     \n",
            "105      87.295790\n",
            "106     -94.128695\n",
            "107    1423.193871\n",
            "108   -1438.919369\n",
            "109     303.002953\n",
            "Name: Discrepancy, Length: 110, dtype: float64\n",
            "-------------------------------------------------------------------------------------------------------------------------------\n",
            "Average Payment Amount: $ 479.3090181019999\n",
            "-------------------------------------------------------------------------------------------------------------------------------\n",
            "Late Payments:\n",
            "      Account ID    Customer Name Billing Date       Amount   Status  \\\n",
            "0          1001     David Wilson   2023-01-01   193.987558  Pending   \n",
            "1          1002    Alice Johnson   2023-01-02   370.656021  Pending   \n",
            "2          1003    Sophia Garcia   2023-01-03   233.019486  Pending   \n",
            "6          1007        Chris Lee   2023-01-07  2864.738488  Pending   \n",
            "7          1008    Sophia Garcia   2023-01-08   244.228596  Pending   \n",
            "8          1009    Sophia Garcia   2023-01-09   183.370132  Pending   \n",
            "10         1011        Chris Lee   2023-01-11   167.993019  Pending   \n",
            "11         1012    Liam Martinez   2023-01-12   236.157919  Pending   \n",
            "16         1017         John Doe   2023-01-17  2748.478753  Pending   \n",
            "22         1023       Emma Brown   2023-01-23   390.528485  Pending   \n",
            "23         1024    Liam Martinez   2023-01-24   288.326148  Pending   \n",
            "27         1028  Mason Rodriguez   2023-01-28  1274.901263  Pending   \n",
            "29         1030       Emma Brown   2023-01-30   256.946223  Pending   \n",
            "31         1032     David Wilson   2023-02-01  2812.330089  Pending   \n",
            "33         1034    Liam Martinez   2023-02-03  1573.703437  Pending   \n",
            "36         1037       Jane Smith   2023-02-06   240.093602  Pending   \n",
            "40         1041    Liam Martinez   2023-02-10   123.705650  Pending   \n",
            "43         1044         John Doe   2023-02-13   488.811544  Pending   \n",
            "45         1046       Jane Smith   2023-02-15   164.855552  Pending   \n",
            "47         1048       Jane Smith   2023-02-17   407.045279  Pending   \n",
            "48         1049         John Doe   2023-02-18   187.162737  Pending   \n",
            "52         1053        Chris Lee   2023-02-22   445.409660  Pending   \n",
            "53         1054  Mason Rodriguez   2023-02-23   296.284692  Pending   \n",
            "55         1056        Chris Lee   2023-02-25   204.590527  Pending   \n",
            "56         1057     David Wilson   2023-02-26   327.690984  Pending   \n",
            "62         1063       Emma Brown   2023-03-04   250.471883  Pending   \n",
            "70         1071     David Wilson   2023-03-12   174.497048  Pending   \n",
            "71         1072     Olivia Davis   2023-03-13    73.973687  Pending   \n",
            "72         1073         John Doe   2023-03-14   293.529776  Pending   \n",
            "79         1080  Mason Rodriguez   2023-03-21   284.483114  Pending   \n",
            "86         1087       Emma Brown   2023-03-28  3849.771331  Pending   \n",
            "92         1093       Jane Smith   2023-04-03   474.625286  Pending   \n",
            "93         1094       Jane Smith   2023-04-04  3593.752963  Pending   \n",
            "98         1099       Emma Brown   2023-04-09   333.925646  Pending   \n",
            "99         1100    Liam Martinez   2023-04-10   118.669234  Pending   \n",
            "101        1017         John Doe   2023-01-17  2526.258343  Pending   \n",
            "107        1028  Mason Rodriguez   2023-01-28  1511.137290  Pending   \n",
            "109        1030       Emma Brown   2023-01-30   375.220875  Pending   \n",
            "\n",
            "       Description        Department  Billing Cycle Time  Discrepancy  \n",
            "0     Consultation        Pediatrics                 NaN          NaN  \n",
            "1         Purchase       Orthopedics                 1.0   176.668462  \n",
            "2         Lab Test          Pharmacy                 1.0  -137.636534  \n",
            "6         Lab Test  General Practice                 1.0  2379.083729  \n",
            "7          Therapy         Neurology                 1.0 -2620.509892  \n",
            "8        Emergency        Cardiology                 1.0   -60.858464  \n",
            "10    Consultation           Unknown                 1.0    40.391946  \n",
            "11         Therapy        Cardiology                 1.0    68.164900  \n",
            "16          Refund               ENT                 1.0  2697.078260  \n",
            "22       Emergency         Radiology                 1.0  -803.688388  \n",
            "23         Therapy       Dermatology                 1.0  -102.202337  \n",
            "27      Medication          Oncology                 1.0  1189.180675  \n",
            "29       Emergency        Cardiology                 1.0   143.931229  \n",
            "31       Procedure          Oncology                 1.0  1222.509310  \n",
            "33     Service Fee         Neurology                 1.0  1105.902534  \n",
            "36         Therapy       Dermatology                 1.0  -134.611195  \n",
            "40       Follow-up               ENT                 1.0   -69.317525  \n",
            "43   Miscellaneous           Unknown                 1.0    96.028459  \n",
            "45          Refund          Pharmacy                 1.0    92.682726  \n",
            "47        Lab Test        Cardiology                 1.0   311.434031  \n",
            "48        Purchase          Pharmacy                 1.0  -219.882542  \n",
            "52          Refund          Oncology                 1.0   156.232624  \n",
            "53       Follow-up         Neurology                 1.0  -149.124968  \n",
            "55     Service Fee        Cardiology                 1.0   103.958939  \n",
            "56        Purchase         Neurology                 1.0   123.100457  \n",
            "62   Miscellaneous         Neurology                 1.0  -103.732430  \n",
            "70         Therapy        Cardiology                 1.0  -246.694298  \n",
            "71    Consultation          Oncology                 1.0  -100.523360  \n",
            "72          Refund          Oncology                 1.0   219.556088  \n",
            "79     Service Fee               ENT                 1.0   -51.237649  \n",
            "86      Medication           Unknown                 1.0  3790.039395  \n",
            "92       Procedure          Pharmacy                 1.0   329.366163  \n",
            "93        Purchase        Pediatrics                 1.0  3119.127677  \n",
            "98          Refund          Oncology                 1.0   161.373783  \n",
            "99       Emergency               ENT                 1.0  -215.256411  \n",
            "101         Refund               ENT                 1.0  2462.471433  \n",
            "107     Medication          Oncology                 1.0  1423.193871  \n",
            "109      Emergency        Cardiology                 1.0   303.002953  \n"
          ]
        }
      ],
      "source": [
        "# Handle non-standard statuses by replacing 'Unknown' with 'Pending' or another appropriate status\n",
        "df['Status'] = df['Status'].replace('Unknown', 'Pending')\n",
        "\n",
        "# Calculate billing cycle times\n",
        "df = calculate_billing_cycle_times(df)\n",
        "\n",
        "# Identify payment discrepancies\n",
        "df = identify_discrepancies(df)\n",
        "\n",
        "# Calculate average payment amounts\n",
        "average_payment = calculate_average_payment(df)\n",
        "\n",
        "# Identify late payments\n",
        "late_payments = find_late_payments(df)\n",
        "\n",
        "# Display analysis results\n",
        "print(\"Billing Cycle Times:\\n\", df['Billing Cycle Time'])\n",
        "\n",
        "print(\"-------------------------------------------------------------------------------------------------------------------------------\")\n",
        "print(\"Payment Discrepancies:\\n\", df['Discrepancy'])\n",
        "\n",
        "print(\"-------------------------------------------------------------------------------------------------------------------------------\")\n",
        "print(\"Average Payment Amount: $\", average_payment)\n",
        "\n",
        "print(\"-------------------------------------------------------------------------------------------------------------------------------\")\n",
        "print(\"Late Payments:\\n\", late_payments)"
      ]
    },
    {
      "cell_type": "markdown",
      "metadata": {
        "id": "HvuCPczkDgX_"
      },
      "source": [
        "<h1><b>Visualization</b></h1>"
      ]
    },
    {
      "cell_type": "code",
      "execution_count": null,
      "metadata": {
        "id": "3Dj8zPLXDgX_",
        "outputId": "2f2559ed-4637-454a-8949-4d8d56d5bcda"
      },
      "outputs": [
        {
          "name": "stderr",
          "output_type": "stream",
          "text": [
            "C:\\Users\\Kala\\AppData\\Local\\Packages\\PythonSoftwareFoundation.Python.3.10_qbz5n2kfra8p0\\LocalCache\\local-packages\\Python310\\site-packages\\seaborn\\_oldcore.py:1119: FutureWarning: use_inf_as_na option is deprecated and will be removed in a future version. Convert inf values to NaN before operating instead.\n",
            "  with pd.option_context('mode.use_inf_as_na', True):\n"
          ]
        },
        {
          "data": {
            "image/png": "[encoded data removed]",
            "text/plain": [
              "<Figure size 1000x600 with 1 Axes>"
            ]
          },
          "metadata": {},
          "output_type": "display_data"
        },
        {
          "name": "stderr",
          "output_type": "stream",
          "text": [
            "C:\\Users\\Kala\\AppData\\Local\\Packages\\PythonSoftwareFoundation.Python.3.10_qbz5n2kfra8p0\\LocalCache\\local-packages\\Python310\\site-packages\\seaborn\\_oldcore.py:1119: FutureWarning: use_inf_as_na option is deprecated and will be removed in a future version. Convert inf values to NaN before operating instead.\n",
            "  with pd.option_context('mode.use_inf_as_na', True):\n"
          ]
        },
        {
          "data": {
            "image/png": "[encoded data removed]",
            "text/plain": [
              "<Figure size 1000x600 with 1 Axes>"
            ]
          },
          "metadata": {},
          "output_type": "display_data"
        },
        {
          "data": {
            "image/png": "[encoded data removed]",
            "text/plain": [
              "<Figure size 1000x600 with 1 Axes>"
            ]
          },
          "metadata": {},
          "output_type": "display_data"
        },
        {
          "data": {
            "image/png": "[encoded data removed]",
            "text/plain": [
              "<Figure size 1200x800 with 1 Axes>"
            ]
          },
          "metadata": {},
          "output_type": "display_data"
        }
      ],
      "source": [
        "import matplotlib.pyplot as plt\n",
        "import seaborn as sns\n",
        "\n",
        "# Distribution of Billing Amounts\n",
        "plt.figure(figsize=(10, 6))\n",
        "sns.histplot(df['Amount'], kde=True)\n",
        "plt.title('Distribution of Billing Amounts')\n",
        "plt.xlabel('Amount')\n",
        "plt.ylabel('Frequency')\n",
        "plt.show()\n",
        "\n",
        "# Billing Cycle Times\n",
        "plt.figure(figsize=(10, 6))\n",
        "sns.histplot(df['Billing Cycle Time'].dropna(), kde=True)\n",
        "plt.title('Distribution of Billing Cycle Times')\n",
        "plt.xlabel('Billing Cycle Time (days)')\n",
        "plt.ylabel('Frequency')\n",
        "plt.show()\n",
        "\n",
        "# Payment Status Distribution\n",
        "plt.figure(figsize=(10, 6))\n",
        "sns.countplot(data=df, x='Status')\n",
        "plt.title('Payment Status Distribution')\n",
        "plt.xlabel('Status')\n",
        "plt.ylabel('Count')\n",
        "plt.show()\n",
        "\n",
        "# Average Payment Amount by Department\n",
        "plt.figure(figsize=(12, 8))\n",
        "sns.barplot(data=df, x='Department', y='Amount')\n",
        "plt.title('Average Payment Amount by Department')\n",
        "plt.xlabel('Department')\n",
        "plt.ylabel('Average Amount')\n",
        "plt.xticks(rotation=45)\n",
        "plt.show()\n"
      ]
    },
    {
      "cell_type": "code",
      "execution_count": null,
      "metadata": {
        "id": "3Sbd7kSADgX_",
        "outputId": "d45ae614-0bd7-4005-c713-142bd604553e"
      },
      "outputs": [
        {
          "name": "stdout",
          "output_type": "stream",
          "text": [
            "\n",
            "Billing Analysis Report - 2024-07-11\n",
            "\n",
            "1. Total Entries: 110\n",
            "2. Missing Values: 0\n",
            "3. Duplicate Entries: 0\n",
            "4. Average Payment Amount: $479.31\n",
            "5. Discrepancies Found: 109\n",
            "\n",
            "Late Payments:\n",
            " Account ID   Customer Name Billing Date      Amount  Status   Description       Department\n",
            "       1001    David Wilson   2023-01-01  193.987558 Pending  Consultation       Pediatrics\n",
            "       1002   Alice Johnson   2023-01-02  370.656021 Pending      Purchase      Orthopedics\n",
            "       1003   Sophia Garcia   2023-01-03  233.019486 Pending      Lab Test         Pharmacy\n",
            "       1007       Chris Lee   2023-01-07 2864.738488 Pending      Lab Test General Practice\n",
            "       1008   Sophia Garcia   2023-01-08  244.228596 Pending       Therapy        Neurology\n",
            "       1009   Sophia Garcia   2023-01-09  183.370132 Pending     Emergency       Cardiology\n",
            "       1011       Chris Lee   2023-01-11  167.993019 Pending  Consultation          Unknown\n",
            "       1012   Liam Martinez   2023-01-12  236.157919 Pending       Therapy       Cardiology\n",
            "       1017        John Doe   2023-01-17 2748.478753 Pending        Refund              ENT\n",
            "       1023      Emma Brown   2023-01-23  390.528485 Pending     Emergency        Radiology\n",
            "       1024   Liam Martinez   2023-01-24  288.326148 Pending       Therapy      Dermatology\n",
            "       1028 Mason Rodriguez   2023-01-28 1274.901263 Pending    Medication         Oncology\n",
            "       1030      Emma Brown   2023-01-30  256.946223 Pending     Emergency       Cardiology\n",
            "       1032    David Wilson   2023-02-01 2812.330089 Pending     Procedure         Oncology\n",
            "       1034   Liam Martinez   2023-02-03 1573.703437 Pending   Service Fee        Neurology\n",
            "       1037      Jane Smith   2023-02-06  240.093602 Pending       Therapy      Dermatology\n",
            "       1041   Liam Martinez   2023-02-10  123.705650 Pending     Follow-up              ENT\n",
            "       1044        John Doe   2023-02-13  488.811544 Pending Miscellaneous          Unknown\n",
            "       1046      Jane Smith   2023-02-15  164.855552 Pending        Refund         Pharmacy\n",
            "       1048      Jane Smith   2023-02-17  407.045279 Pending      Lab Test       Cardiology\n",
            "       1049        John Doe   2023-02-18  187.162737 Pending      Purchase         Pharmacy\n",
            "       1053       Chris Lee   2023-02-22  445.409660 Pending        Refund         Oncology\n",
            "       1054 Mason Rodriguez   2023-02-23  296.284692 Pending     Follow-up        Neurology\n",
            "       1056       Chris Lee   2023-02-25  204.590527 Pending   Service Fee       Cardiology\n",
            "       1057    David Wilson   2023-02-26  327.690984 Pending      Purchase        Neurology\n",
            "       1063      Emma Brown   2023-03-04  250.471883 Pending Miscellaneous        Neurology\n",
            "       1071    David Wilson   2023-03-12  174.497048 Pending       Therapy       Cardiology\n",
            "       1072    Olivia Davis   2023-03-13   73.973687 Pending  Consultation         Oncology\n",
            "       1073        John Doe   2023-03-14  293.529776 Pending        Refund         Oncology\n",
            "       1080 Mason Rodriguez   2023-03-21  284.483114 Pending   Service Fee              ENT\n",
            "       1087      Emma Brown   2023-03-28 3849.771331 Pending    Medication          Unknown\n",
            "       1093      Jane Smith   2023-04-03  474.625286 Pending     Procedure         Pharmacy\n",
            "       1094      Jane Smith   2023-04-04 3593.752963 Pending      Purchase       Pediatrics\n",
            "       1099      Emma Brown   2023-04-09  333.925646 Pending        Refund         Oncology\n",
            "       1100   Liam Martinez   2023-04-10  118.669234 Pending     Emergency              ENT\n",
            "       1017        John Doe   2023-01-17 2526.258343 Pending        Refund              ENT\n",
            "       1028 Mason Rodriguez   2023-01-28 1511.137290 Pending    Medication         Oncology\n",
            "       1030      Emma Brown   2023-01-30  375.220875 Pending     Emergency       Cardiology\n",
            "\n",
            "Detailed insights and visualizations are provided in the attached plots.\n",
            "\n"
          ]
        }
      ],
      "source": [
        "import datetime\n",
        "\n",
        "# Summarize findings\n",
        "report = f\"\"\"\n",
        "Billing Analysis Report - {datetime.datetime.now().strftime('%Y-%m-%d')}\n",
        "\n",
        "1. Total Entries: {len(df)}\n",
        "2. Missing Values: {missing_values.sum()}\n",
        "3. Duplicate Entries: {duplicates}\n",
        "4. Average Payment Amount: ${average_payment:.2f}\n",
        "5. Discrepancies Found: {df['Discrepancy'].count()}\n",
        "\n",
        "Late Payments:\n",
        "{late_payments[['Account ID', 'Customer Name', 'Billing Date', 'Amount', 'Status', 'Description', 'Department']].to_string(index=False)}\n",
        "\n",
        "Detailed insights and visualizations are provided in the attached plots.\n",
        "\"\"\"\n",
        "\n",
        "print(report)\n",
        "\n",
        "# Save the report to a text file\n",
        "with open('billing_analysis_report.txt', 'w') as file:\n",
        "    file.write(report)\n"
      ]
    },
    {
      "cell_type": "markdown",
      "metadata": {
        "id": "pg3VZSXqDgYA"
      },
      "source": [
        "<h1><b>Report Generation</b></h1>"
      ]
    },
    {
      "cell_type": "markdown",
      "metadata": {
        "id": "b7XIhIEDDgYA"
      },
      "source": [
        "%pip install --upgrade --quiet  langchain langchain-community langchain-experimental"
      ]
    },
    {
      "cell_type": "code",
      "execution_count": null,
      "metadata": {
        "id": "x2THeUi1DgYA",
        "outputId": "b0279a48-0f4c-4766-f3ff-062520561e47"
      },
      "outputs": [
        {
          "name": "stdout",
          "output_type": "stream",
          "text": [
            "CSV file successfully converted to SQLite database.\n"
          ]
        }
      ],
      "source": [
        "import pandas as pd\n",
        "import sqlite3\n",
        "\n",
        "#  Connect to SQLite database (will create it if it doesn't exist)\n",
        "conn = sqlite3.connect('billing_data.db')\n",
        "\n",
        "#  Insert data into SQLite database\n",
        "df.to_sql('billing', conn, if_exists='replace', index=False)\n",
        "\n",
        "#  Close connection\n",
        "conn.close()\n",
        "\n",
        "print(\"CSV file successfully converted to SQLite database.\")\n"
      ]
    },
    {
      "cell_type": "code",
      "execution_count": null,
      "metadata": {
        "id": "idh1L17FDgYA"
      },
      "outputs": [],
      "source": [
        "from langchain_community.utilities.sql_database import SQLDatabase\n",
        "\n",
        "db = SQLDatabase.from_uri(\"sqlite:///billing_data.db\")"
      ]
    },
    {
      "cell_type": "code",
      "execution_count": null,
      "metadata": {
        "id": "25VhnK8rDgYB"
      },
      "outputs": [],
      "source": [
        "# Set your OpenAI API key\n",
        "import os\n",
        "os.environ[\"OPENAI_API_KEY\"] = ' '"
      ]
    },
    {
      "cell_type": "code",
      "execution_count": 9,
      "metadata": {
        "id": "VpxglOkPDgYB"
      },
      "outputs": [],
      "source": [
        "# Define the prompt for the LLM\n",
        "prompt = f\"\"\"\n",
        "Generate a detailed report based on the billing analysis:\n",
        "\n",
        "1. Distribution of Billing Amounts:\n",
        "Explain the distribution of billing amounts based on the provided histogram. Most transactions fall within a certain range, with a few high-cost transactions significantly above the average, suggesting a mix of routine and high-cost services or procedures.\n",
        "\n",
        "2. Billing Cycle Times:\n",
        "Describe the pattern of billing cycle times based on the provided histogram. Shorter cycles are more common, indicating regular billing intervals. Outliers with longer cycles might need further investigation.\n",
        "\n",
        "3. Payment Status Distribution:\n",
        "Summarize the distribution of payment statuses based on the provided bar plot. A significant number of transactions are still pending, suggesting issues with payment processing or follow-ups.\n",
        "\n",
        "4. Average Payment Amount by Department:\n",
        "Discuss the average payment amounts across different departments based on the provided bar plot. Some departments, such as Oncology and ENT, have higher average billing amounts, which could be due to the nature of the treatments and procedures they provide.\n",
        "\n",
        "\n",
        "# Handle non-standard statuses by replacing 'Unknown' with 'Pending' or another appropriate status\n",
        "df['Status'] = df['Status'].replace('Unknown', 'Pending')\n",
        "\n",
        "# Calculate billing cycle times\n",
        "df = calculate_billing_cycle_times(df)\n",
        "\n",
        "# Identify payment discrepancies\n",
        "df = identify_discrepancies(df)\n",
        "\n",
        "# Calculate average payment amounts\n",
        "average_payment = calculate_average_payment(df)\n",
        "\n",
        "# Identify late payments\n",
        "late_payments = find_late_payments(df)\n",
        "\n",
        "# Display analysis results\n",
        "print(\"Billing Cycle Times:\\n\", df['Billing Cycle Time'])\n",
        "\n",
        "print(\"-------------------------------------------------------------------------------------------------------------------------------\")\n",
        "print(\"Payment Discrepancies:\\n\", df['Discrepancy'])\n",
        "\n",
        "Billing Cycle Times:\n",
        " 0      NaN\n",
        "1      1.0\n",
        "2      1.0\n",
        "3      1.0\n",
        "4      1.0\n",
        "      ...\n",
        "105    6.0\n",
        "106    1.0\n",
        "107    1.0\n",
        "108    1.0\n",
        "109    1.0\n",
        "Name: Billing Cycle Time, Length: 110, dtype: float64\n",
        "-------------------------------------------------------------------------------------------------------------------------------\n",
        "Payment Discrepancies:\n",
        " 0              NaN\n",
        "1       176.668462\n",
        "2      -137.636534\n",
        "3        63.101239\n",
        "4        -1.465961\n",
        "          ...\n",
        "105      87.295790\n",
        "106     -94.128695\n",
        "107    1423.193871\n",
        "108   -1438.919369\n",
        "109     303.002953\n",
        "Name: Discrepancy, Length: 110, dtype: float64\n",
        "-------------------------------------------------------------------------------------------------------------------------------\n",
        "Average Payment Amount: $ 479.3090181019999\n",
        "-----------------------------------------------\n",
        "\n",
        "\n",
        "Billing Analysis Report - 2024-07-11\n",
        "\n",
        "1. Total Entries: 110\n",
        "2. Missing Values: 0\n",
        "3. Duplicate Entries: 0\n",
        "4. Average Payment Amount: $479.31\n",
        "5. Discrepancies Found: 109\n",
        "\n",
        "Late Payments:\n",
        " Account ID   Customer Name Billing Date      Amount  Status   Description       Department\n",
        "       1001    David Wilson   2023-01-01  193.987558 Pending  Consultation       Pediatrics\n",
        "       1002   Alice Johnson   2023-01-02  370.656021 Pending      Purchase      Orthopedics\n",
        "       1003   Sophia Garcia   2023-01-03  233.019486 Pending      Lab Test         Pharmacy\n",
        "       1007       Chris Lee   2023-01-07 2864.738488 Pending      Lab Test General Practice\n",
        "       1008   Sophia Garcia   2023-01-08  244.228596 Pending       Therapy        Neurology\n",
        "       1009   Sophia Garcia   2023-01-09  183.370132 Pending     Emergency       Cardiology\n",
        "       1011       Chris Lee   2023-01-11  167.993019 Pending  Consultation          Unknown\n",
        "       1012   Liam Martinez   2023-01-12  236.157919 Pending       Therapy       Cardiology\n",
        "       1017        John Doe   2023-01-17 2748.478753 Pending        Refund              ENT\n",
        "       1023      Emma Brown   2023-01-23  390.528485 Pending     Emergency        Radiology\n",
        "       1024   Liam Martinez   2023-01-24  288.326148 Pending       Therapy      Dermatology\n",
        "       1028 Mason Rodriguez   2023-01-28 1274.901263 Pending    Medication         Oncology\n",
        "       1030      Emma Brown   2023-01-30  256.946223 Pending     Emergency       Cardiology\n",
        "       1032    David Wilson   2023-02-01 2812.330089 Pending     Procedure         Oncology\n",
        "       1034   Liam Martinez   2023-02-03 1573.703437 Pending   Service Fee        Neurology\n",
        "       1037      Jane Smith   2023-02-06  240.093602 Pending       Therapy      Dermatology\n",
        "       1041   Liam Martinez   2023-02-10  123.705650 Pending     Follow-up              ENT\n",
        "       1044        John Doe   2023-02-13  488.811544 Pending Miscellaneous          Unknown\n",
        "       1046      Jane Smith   2023-02-15  164.855552 Pending        Refund         Pharmacy\n",
        "       1048      Jane Smith   2023-02-17  407.045279 Pending      Lab Test       Cardiology\n",
        "       1049        John Doe   2023-02-18  187.162737 Pending      Purchase         Pharmacy\n",
        "       1053       Chris Lee   2023-02-22  445.409660 Pending        Refund         Oncology\n",
        "       1054 Mason Rodriguez   2023-02-23  296.284692 Pending     Follow-up        Neurology\n",
        "       1056       Chris Lee   2023-02-25  204.590527 Pending   Service Fee       Cardiology\n",
        "       1057    David Wilson   2023-02-26  327.690984 Pending      Purchase        Neurology\n",
        "       1063      Emma Brown   2023-03-04  250.471883 Pending Miscellaneous        Neurology\n",
        "       1071    David Wilson   2023-03-12  174.497048 Pending       Therapy       Cardiology\n",
        "       1072    Olivia Davis   2023-03-13   73.973687 Pending  Consultation         Oncology\n",
        "       1073        John Doe   2023-03-14  293.529776 Pending        Refund         Oncology\n",
        "       1080 Mason Rodriguez   2023-03-21  284.483114 Pending   Service Fee              ENT\n",
        "       1087      Emma Brown   2023-03-28 3849.771331 Pending    Medication          Unknown\n",
        "       1093      Jane Smith   2023-04-03  474.625286 Pending     Procedure         Pharmacy\n",
        "       1094      Jane Smith   2023-04-04 3593.752963 Pending      Purchase       Pediatrics\n",
        "       1099      Emma Brown   2023-04-09  333.925646 Pending        Refund         Oncology\n",
        "       1100   Liam Martinez   2023-04-10  118.669234 Pending     Emergency              ENT\n",
        "       1017        John Doe   2023-01-17 2526.258343 Pending        Refund              ENT\n",
        "       1028 Mason Rodriguez   2023-01-28 1511.137290 Pending    Medication         Oncology\n",
        "       1030      Emma Brown   2023-01-30  375.220875 Pending     Emergency       Cardiology\n",
        "\n",
        "\"\"\""
      ]
    },
    {
      "cell_type": "code",
      "execution_count": null,
      "metadata": {
        "id": "Zt0K_iiADgYB"
      },
      "outputs": [],
      "source": [
        "\n",
        "from langchain_community.agent_toolkits import create_sql_agent\n",
        "from langchain_openai import ChatOpenAI\n",
        "\n",
        "llm = ChatOpenAI(model=\"gpt-3.5-turbo\", temperature=0)\n",
        "agent_executor = create_sql_agent(llm, db=db, agent_type=\"openai-tools\", verbose=True)"
      ]
    },
    {
      "cell_type": "markdown",
      "metadata": {},
      "source": [
        "<b><h1>Can ask questions/queries/report to the database</h1></b>"
      ]
    },
    {
      "cell_type": "code",
      "execution_count": null,
      "metadata": {
        "id": "_RZAW2c4DgYB",
        "outputId": "8d4f516f-9868-492f-d1c1-4e4287d2294b"
      },
      "outputs": [
        {
          "name": "stdout",
          "output_type": "stream",
          "text": [
            "\n",
            "\n",
            "\u001b[1m> Entering new SQL Agent Executor chain...\u001b[0m\n",
            "\u001b[32;1m\u001b[1;3m\n",
            "Invoking: `sql_db_list_tables` with `{}`\n",
            "\n",
            "\n",
            "\u001b[0m\u001b[38;5;200m\u001b[1;3mbilling\u001b[0m\u001b[32;1m\u001b[1;3m\n",
            "Invoking: `sql_db_schema` with `{'table_names': 'billing'}`\n",
            "\n",
            "\n",
            "\u001b[0m\u001b[33;1m\u001b[1;3m\n",
            "CREATE TABLE billing (\n",
            "\t\"Account ID\" INTEGER, \n",
            "\t\"Customer Name\" TEXT, \n",
            "\t\"Billing Date\" TIMESTAMP, \n",
            "\t\"Amount\" REAL, \n",
            "\t\"Status\" TEXT, \n",
            "\t\"Description\" TEXT, \n",
            "\t\"Department\" TEXT, \n",
            "\t\"Billing Cycle Time\" REAL, \n",
            "\t\"Discrepancy\" REAL\n",
            ")\n",
            "\n",
            "/*\n",
            "3 rows from billing table:\n",
            "Account ID\tCustomer Name\tBilling Date\tAmount\tStatus\tDescription\tDepartment\tBilling Cycle Time\tDiscrepancy\n",
            "1001\tDavid Wilson\t2023-01-01 00:00:00\t193.9875582\tPending\tConsultation\tPediatrics\tNone\tNone\n",
            "1002\tAlice Johnson\t2023-01-02 00:00:00\t370.6560205\tPending\tPurchase\tOrthopedics\t1.0\t176.66846230000002\n",
            "1003\tSophia Garcia\t2023-01-03 00:00:00\t233.0194861\tPending\tLab Test\tPharmacy\t1.0\t-137.63653440000002\n",
            "*/\u001b[0m\u001b[32;1m\u001b[1;3m\n",
            "Invoking: `sql_db_query` with `{'query': 'SELECT \"Customer Name\" FROM billing'}`\n",
            "\n",
            "\n",
            "\u001b[0m\u001b[36;1m\u001b[1;3m[('David Wilson',), ('Alice Johnson',), ('Sophia Garcia',), ('Olivia Davis',), ('David Wilson',), ('Olivia Davis',), ('Chris Lee',), ('Sophia Garcia',), ('Sophia Garcia',), ('Olivia Davis',), ('Chris Lee',), ('Liam Martinez',), ('Sophia Garcia',), ('David Wilson',), ('Jane Smith',), ('Emma Brown',), ('John Doe',), ('Mason Rodriguez',), ('Olivia Davis',), ('Olivia Davis',), ('John Doe',), ('Emma Brown',), ('Emma Brown',), ('Liam Martinez',), ('David Wilson',), ('Chris Lee',), ('Olivia Davis',), ('Mason Rodriguez',), ('John Doe',), ('Emma Brown',), ('Liam Martinez',), ('David Wilson',), ('Jane Smith',), ('Liam Martinez',), ('Sophia Garcia',), ('Chris Lee',), ('Jane Smith',), ('Jane Smith',), ('Sophia Garcia',), ('Mason Rodriguez',), ('Liam Martinez',), ('Alice Johnson',), ('Emma Brown',), ('John Doe',), ('Alice Johnson',), ('Jane Smith',), ('Sophia Garcia',), ('Jane Smith',), ('John Doe',), ('David Wilson',), ('Liam Martinez',), ('Mason Rodriguez',), ('Chris Lee',), ('Mason Rodriguez',), ('David Wilson',), ('Chris Lee',), ('David Wilson',), ('Emma Brown',), ('Jane Smith',), ('Emma Brown',), ('Chris Lee',), ('Chris Lee',), ('Emma Brown',), ('John Doe',), ('Chris Lee',), ('Mason Rodriguez',), ('Alice Johnson',), ('Liam Martinez',), ('Jane Smith',), ('David Wilson',), ('David Wilson',), ('Olivia Davis',), ('John Doe',), ('Sophia Garcia',), ('Alice Johnson',), ('Chris Lee',), ('Jane Smith',), ('Liam Martinez',), ('Emma Brown',), ('Mason Rodriguez',), ('David Wilson',), ('Chris Lee',), ('Emma Brown',), ('Emma Brown',), ('Olivia Davis',), ('Mason Rodriguez',), ('Emma Brown',), ('Mason Rodriguez',), ('Olivia Davis',), ('Sophia Garcia',), ('John Doe',), ('John Doe',), ('Jane Smith',), ('Jane Smith',), ('Emma Brown',), ('Jane Smith',), ('Olivia Davis',), ('John Doe',), ('Emma Brown',), ('Liam Martinez',), ('Emma Brown',), ('John Doe',), ('Mason Rodriguez',), ('Olivia Davis',), ('Olivia Davis',), ('Chris Lee',), ('Olivia Davis',), ('Mason Rodriguez',), ('John Doe',), ('Emma Brown',)]\u001b[0m\u001b[32;1m\u001b[1;3mThe customer names in the database are:\n",
            "1. David Wilson\n",
            "2. Alice Johnson\n",
            "3. Sophia Garcia\n",
            "4. Olivia Davis\n",
            "5. Chris Lee\n",
            "6. Liam Martinez\n",
            "7. Jane Smith\n",
            "8. Emma Brown\n",
            "9. John Doe\n",
            "10. Mason Rodriguez\n",
            "\n",
            "These are the first 10 customer names from the database.\u001b[0m\n",
            "\n",
            "\u001b[1m> Finished chain.\u001b[0m\n"
          ]
        },
        {
          "data": {
            "text/plain": [
              "{'input': 'List all customer name?',\n",
              " 'output': 'The customer names in the database are:\\n1. David Wilson\\n2. Alice Johnson\\n3. Sophia Garcia\\n4. Olivia Davis\\n5. Chris Lee\\n6. Liam Martinez\\n7. Jane Smith\\n8. Emma Brown\\n9. John Doe\\n10. Mason Rodriguez\\n\\nThese are the first 10 customer names from the database.'}"
            ]
          },
          "execution_count": 41,
          "metadata": {},
          "output_type": "execute_result"
        }
      ],
      "source": [
        "agent_executor.invoke(\n",
        "    \"List all customer name?\"\n",
        ")"
      ]
    },
    {
      "cell_type": "markdown",
      "metadata": {},
      "source": [
        "<h1><b>Report "
      ]
    },
    {
      "cell_type": "code",
      "execution_count": 10,
      "metadata": {
        "colab": {
          "base_uri": "https://localhost:8080/"
        },
        "id": "SFWwmeuSDgYB",
        "outputId": "d2855a3e-7a20-4966-cfef-6685d60fc7cf"
      },
      "outputs": [
        {
          "name": "stdout",
          "output_type": "stream",
          "text": [
            "## Billing Analysis Report - 2024-07-11\n",
            "\n",
            "### Overview:\n",
            "- Total Entries: 110\n",
            "- Missing Values: 0\n",
            "- Duplicate Entries: 0\n",
            "- Average Payment Amount: $479.31\n",
            "- Discrepancies Found: 109\n",
            "\n",
            "---\n",
            "\n",
            "### 1. Distribution of Billing Amounts:\n",
            "The histogram analysis indicates that most transactions fall within a certain range, with a few high-cost transactions significantly above the average. This suggests a mix of routine and high-cost services or procedures being billed.\n",
            "\n",
            "### 2. Billing Cycle Times:\n",
            "Based on the histogram, shorter billing cycles are more common, indicating regular billing intervals. Outliers with longer cycle times may require further investigation to understand the reasons behind the delays.\n",
            "\n",
            "### 3. Payment Status Distribution:\n",
            "The bar plot shows a significant number of transactions with pending payment statuses. This suggests potential issues with payment processing or follow-ups that need to be addressed to ensure timely payments.\n",
            "\n",
            "### 4. Average Payment Amount by Department:\n",
            "Departments like Oncology and ENT have higher average billing amounts, which could be attributed to the specialized treatments and procedures they offer. Understanding these department-wise differences can help optimize billing processes and revenue management.\n",
            "\n",
            "---\n",
            "\n",
            "### Late Payments:\n",
            "- Several accounts have pending payment statuses, indicating late payments across various departments such as Pediatrics, Orthopedics, and Cardiology. Timely follow-ups and communication with customers can help address these delays and improve revenue flow.\n",
            "\n",
            "---\n",
            "\n",
            "By addressing discrepancies, monitoring billing cycle times, and actively managing payment statuses, the billing process can be streamlined and optimized for improved financial performance. Regular analysis and proactive measures will be essential in ensuring efficient billing operations moving forward.\n"
          ]
        }
      ],
      "source": [
        "# Call the OpenAI API to generate the report\n",
        "response = openai.ChatCompletion.create(\n",
        "  model=\"gpt-3.5-turbo\",\n",
        "  messages=[\n",
        "      {\"role\": \"system\", \"content\": \"You are a helpful assistant.\"},\n",
        "      {\"role\": \"user\", \"content\": prompt}\n",
        "  ],\n",
        "  max_tokens=500,\n",
        "  temperature=0.7\n",
        ")\n",
        "\n",
        "# Extract the generated report text\n",
        "report = response['choices'][0]['message']['content'].strip()\n",
        "\n",
        "# Print the generated report\n",
        "print(report)"
      ]
    },
    {
      "cell_type": "code",
      "execution_count": null,
      "metadata": {
        "id": "dv9HH9YxDgYB"
      },
      "outputs": [],
      "source": []
    }
  ],
  "metadata": {
    "colab": {
      "provenance": []
    },
    "kernelspec": {
      "display_name": "Python 3",
      "language": "python",
      "name": "python3"
    },
    "language_info": {
      "codemirror_mode": {
        "name": "ipython",
        "version": 3
      },
      "file_extension": ".py",
      "mimetype": "text/x-python",
      "name": "python",
      "nbconvert_exporter": "python",
      "pygments_lexer": "ipython3",
      "version": "3.10.11"
    }
  },
  "nbformat": 4,
  "nbformat_minor": 0
}
